{
 "cells": [
  {
   "attachments": {},
   "cell_type": "markdown",
   "metadata": {},
   "source": [
    "**Group information** <br> \n",
    "\n",
    "| Family name | First name | Student #  | BSE email             | <br> \n",
    "| Quinones    | Luis       | 1678037    | luis.quinones@bse.eu  | <br> \n",
    "| Pfeiffer    | Tobias     | 1678033    | tobias.pfeiffer@bse.eu | <br> "
   ]
  },
  {
   "attachments": {},
   "cell_type": "markdown",
   "metadata": {},
   "source": [
    "# Deep learning applications - Homework 1"
   ]
  },
  {
   "attachments": {},
   "cell_type": "markdown",
   "metadata": {},
   "source": [
    "This practice session aims to extract automatically building footprints from aerial images of the state of Massachusetts. We want to approximate the function mapping input images to a binary prediction for each pixel (i.e. semantic segmentation) using the U-Net convolutional network architecture [(Ronneberger et al. 2015)](https://link.springer.com/chapter/10.1007/978-3-319-24574-4_28). For this assignment, the GPU implementation of TensorFlow is recommended, but students preferring PyTorch can use this framework instead.\n",
    "\n",
    "The image data consists of 3347 colour raster of dimension 256x256x3 using the NAD83 (EPSG:26986) projection system. Each raster represents an area of 300 square meters. The label data consists of building footprints vectors extracted from [OpenStreetMap](https://www.openstreetmap.org/relation/61315) and converted into a binary raster with the same extent and resolution as the image rasters. The unformatted data was provided by Minh (2013) and can be accessed on his [website](http://www.cs.toronto.edu/~vmnih/data/). Images and labels are randomly partitioned into a training (70%) validation (15%) and test sample (15%)."
   ]
  },
  {
   "attachments": {},
   "cell_type": "markdown",
   "metadata": {},
   "source": [
    "Tensorflow Keras documentation:\n",
    "- [Convolution](https://keras.io/api/layers/convolution_layers/)\n",
    "- [Activation](https://keras.io/api/layers/activations/)\n",
    "- [Pooling](https://keras.io/api/layers/pooling_layers/)\n",
    "- [Regularisation](https://keras.io/api/layers/regularization_layers/)\n",
    "- [Optimisers](https://keras.io/api/optimizers/)\n",
    "- [Metrics](https://keras.io/api/metrics/)\n",
    "- [Losses](https://keras.io/api/losses/)\n",
    "- [Callbacks](https://www.tensorflow.org/api_docs/python/tf/keras/callbacks)"
   ]
  },
  {
   "attachments": {},
   "cell_type": "markdown",
   "metadata": {},
   "source": [
    "![U-Net model](homework_model.jpg)"
   ]
  },
  {
   "cell_type": "code",
   "execution_count": 1,
   "metadata": {},
   "outputs": [],
   "source": [
    "# Modules\n",
    "import numpy as np\n",
    "\n",
    "import tensorflow\n",
    "from tensorflow import keras\n",
    "from tensorflow.keras import callbacks, layers, losses, metrics, models, optimizers, preprocessing, utils\n",
    "from keras.models import Model\n",
    "from keras.layers import Input, Conv2D, MaxPooling2D, UpSampling2D, concatenate\n",
    "from tensorflow.keras.callbacks import EarlyStopping\n",
    "from homework_utilities import *\n",
    "import matplotlib as plt"
   ]
  },
  {
   "cell_type": "code",
   "execution_count": 2,
   "metadata": {},
   "outputs": [
    {
     "name": "stdout",
     "output_type": "stream",
     "text": [
      "TensorFlow version: 2.12.0\n",
      "GPU available: 0\n"
     ]
    }
   ],
   "source": [
    "# Checks tensorFlow\n",
    "print('TensorFlow version:', tensorflow.__version__)\n",
    "print('GPU available:', len(tensorflow.config.list_physical_devices('GPU')))\n",
    "\n",
    "# Defines paths\n",
    "paths = dict(\n",
    "    images_train='data/training/images',\n",
    "    labels_train='data/training/labels',\n",
    "    images_valid='data/validation/images',\n",
    "    labels_valid='data/validation/labels',\n",
    "    images_test= 'data/test/images',\n",
    "    labels_test= 'data/test/labels'\n",
    ")"
   ]
  },
  {
   "attachments": {},
   "cell_type": "markdown",
   "metadata": {},
   "source": [
    "1. Load the images and labels for the training and validation samples as separate `numpy.ndarray` of dimensions $n \\times h \\times w \\times d$. You can use the provided `search_files` and `read_raster` utility functions. Normalise the images between 0 and 1 and set the labels data type as float."
   ]
  },
  {
   "cell_type": "code",
   "execution_count": 3,
   "metadata": {},
   "outputs": [],
   "source": [
    "def gen_dataset(dir_path_image: str, dir_path_label: str):\n",
    "    '''Loads data into np.ndarrays'''\n",
    "    image_path = search_files(dir_path_image)\n",
    "    label_path = search_files(dir_path_label)\n",
    "    i = []\n",
    "    l = []\n",
    "    for path in image_path:\n",
    "        i.append(path)\n",
    "    \n",
    "    for path in label_path:\n",
    "        l.append(path)\n",
    "    \n",
    "    image = []\n",
    "    label = []\n",
    "    for obj in i:\n",
    "        image.append(read_raster(obj))\n",
    "\n",
    "    for obj in l:\n",
    "        label.append(read_raster(obj))        \n",
    "    image = np.multiply(image, (1/255))\n",
    "    label = np.stack(label)\n",
    "    return image, label"
   ]
  },
  {
   "cell_type": "code",
   "execution_count": 4,
   "metadata": {},
   "outputs": [],
   "source": [
    "train_image, train_label = gen_dataset(paths['images_train'], paths['labels_train'])\n",
    "test_image, test_label = gen_dataset(paths['images_test'], paths['labels_test'])\n",
    "validation_image, validation_label = gen_dataset(paths['images_valid'], paths['labels_valid'])"
   ]
  },
  {
   "attachments": {},
   "cell_type": "markdown",
   "metadata": {},
   "source": [
    "2. For the training and validation samples, check the dimensions of the images and labels arrays. Display several matching image and label pairs to ensure correspondence. You can use the provided `compare` utility function."
   ]
  },
  {
   "cell_type": "code",
   "execution_count": 5,
   "metadata": {},
   "outputs": [],
   "source": [
    "def dimensions(image_array, label_array):\n",
    "    # the NN expects a np.ndarry an input annd output\n",
    "    if not isinstance(image_array, np.ndarray) or not isinstance(label_array, np.ndarray):\n",
    "        raise TypeError(\"Inputs must be numpy ndarrays\")\n",
    "    \n",
    "    image_shape = image_array.shape\n",
    "    label_shape = label_array.shape\n",
    "\n",
    "    if (image_shape[0] == label_shape[0]) and (image_shape[1] == label_shape[1]) and (image_shape[2] == label_shape[2]) and (image_shape[3] == 3) and (label_shape[3] == 1):\n",
    "        print('The Dimensions are correct')\n",
    "    else:\n",
    "        print('The dimensions are incorrect. Check the data function')"
   ]
  },
  {
   "cell_type": "code",
   "execution_count": 6,
   "metadata": {},
   "outputs": [
    {
     "name": "stdout",
     "output_type": "stream",
     "text": [
      "The Dimensions are correct\n",
      "The Dimensions are correct\n"
     ]
    }
   ],
   "source": [
    "dimensions(train_image, train_label)\n",
    "dimensions(validation_image, validation_label)"
   ]
  },
  {
   "attachments": {},
   "cell_type": "markdown",
   "metadata": {},
   "source": [
    "3. Using the Keras functional API, define a simplified U-Net model with the number of kernels indicated in the figure above (i.e. 8, 16, 32, 64, 128, ...). There are numerous implementation examples of U-Nets using Keras. Choose the appropriate activation functions for the hidden layers and the output layer, and the corresponding parameter initialisation method."
   ]
  },
  {
   "cell_type": "code",
   "execution_count": 7,
   "metadata": {},
   "outputs": [],
   "source": [
    "def encoder(imp, filters, kernel_size=(3, 3), padding=\"same\", strides=1):\n",
    "    # imp = input, filters = reduce/compact the pixel dimesion\n",
    "    c = keras.layers.Conv2D(filters, kernel_size, padding=padding, strides=strides, activation=\"relu\")(imp)\n",
    "    c = keras.layers.Conv2D(filters, kernel_size, padding=padding, strides=strides, activation=\"relu\")(c)\n",
    "    p = keras.layers.MaxPool2D((2, 2), (2, 2))(c)\n",
    "    # returns the first layer which is fed to the decoders (see image)\n",
    "    # p is the encoder block\n",
    "    return c, p\n",
    "\n",
    "def decoder(imp, skip, filters, kernel_size=(3, 3), padding=\"same\", strides=1):\n",
    "    '''\n",
    "    imp = imput\n",
    "    skip = the layer from the encoder block that is concatenated (see blue line in graphic)\n",
    "    filter = reduce/compact the pixel dimesion\n",
    "    '''\n",
    "    # concatenate imput and encoder layer\n",
    "    us = keras.layers.UpSampling2D((2, 2))(imp)\n",
    "    concat = keras.layers.Concatenate()([us, skip])\n",
    "    c = keras.layers.Conv2D(filters, kernel_size, padding=padding, strides=strides, activation=\"relu\")(concat)\n",
    "    c = keras.layers.Conv2D(filters, kernel_size, padding=padding, strides=strides, activation=\"relu\")(c)\n",
    "    # 4 encoder block; mistake may lay here\n",
    "    c = keras.layers.Conv2D(filters, kernel_size, padding=padding, strides=strides, activation=\"relu\")(c)\n",
    "    c = keras.layers.Conv2D(filters, kernel_size, padding=padding, strides=strides, activation=\"relu\")(c)\n",
    "    return c\n",
    "\n",
    "def bottleneck(imp, filters, kernel_size=(3, 3), padding=\"same\", strides=1):\n",
    "    c = keras.layers.Conv2D(filters, kernel_size, padding=padding, strides=strides, activation=\"relu\")(imp)\n",
    "    c = keras.layers.Conv2D(filters, kernel_size, padding=padding, strides=strides, activation=\"relu\")(c)\n",
    "    return c"
   ]
  },
  {
   "cell_type": "code",
   "execution_count": 8,
   "metadata": {},
   "outputs": [],
   "source": [
    "def u_net():\n",
    "    f = [8, 16, 32, 64, 128, 256]\n",
    "    inputs = keras.layers.Input((256, 256, 3))\n",
    "    \n",
    "    p0 = inputs\n",
    "    c1, p1 = encoder(p0, f[0]) #256 -> 128\n",
    "    c2, p2 = encoder(p1, f[1]) #128 -> 64\n",
    "    c3, p3 = encoder(p2, f[2]) #64 -> 32\n",
    "    c4, p4 = encoder(p3, f[3]) #32 -> 16\n",
    "    c5, p5 = encoder(p4, f[4]) #16 -> 8\n",
    "    \n",
    "    bn = bottleneck(p5, f[5])\n",
    "    \n",
    "    u1 = decoder(bn, c5, f[4]) #8 -> 16\n",
    "    u2 = decoder(u1, c4, f[3]) #16 -> 32\n",
    "    u3 = decoder(u2, c3, f[2]) #32 -> 64\n",
    "    u4 = decoder(u3, c2, f[1]) #64 -> 128\n",
    "    u5 = decoder(u4, c1, f[0]) #128 -> 256\n",
    "    \n",
    "    outputs = keras.layers.Conv2D(1, (1, 1), padding=\"same\", activation=\"sigmoid\")(u5)\n",
    "    model = keras.models.Model(inputs, outputs)\n",
    "    return model"
   ]
  },
  {
   "attachments": {},
   "cell_type": "markdown",
   "metadata": {},
   "source": [
    "4. Initialise and compile the model using the chosen optimisation algorithm and the appropriate loss function. Optionally, you can use the focal version of the loss function to account for the class imbalance in the training data. Print the model structure using the `summary` method."
   ]
  },
  {
   "cell_type": "code",
   "execution_count": 9,
   "metadata": {},
   "outputs": [
    {
     "name": "stdout",
     "output_type": "stream",
     "text": [
      "Model: \"model\"\n",
      "__________________________________________________________________________________________________\n",
      " Layer (type)                   Output Shape         Param #     Connected to                     \n",
      "==================================================================================================\n",
      " input_1 (InputLayer)           [(None, 256, 256, 3  0           []                               \n",
      "                                )]                                                                \n",
      "                                                                                                  \n",
      " conv2d (Conv2D)                (None, 256, 256, 8)  224         ['input_1[0][0]']                \n",
      "                                                                                                  \n",
      " conv2d_1 (Conv2D)              (None, 256, 256, 8)  584         ['conv2d[0][0]']                 \n",
      "                                                                                                  \n",
      " max_pooling2d (MaxPooling2D)   (None, 128, 128, 8)  0           ['conv2d_1[0][0]']               \n",
      "                                                                                                  \n",
      " conv2d_2 (Conv2D)              (None, 128, 128, 16  1168        ['max_pooling2d[0][0]']          \n",
      "                                )                                                                 \n",
      "                                                                                                  \n",
      " conv2d_3 (Conv2D)              (None, 128, 128, 16  2320        ['conv2d_2[0][0]']               \n",
      "                                )                                                                 \n",
      "                                                                                                  \n",
      " max_pooling2d_1 (MaxPooling2D)  (None, 64, 64, 16)  0           ['conv2d_3[0][0]']               \n",
      "                                                                                                  \n",
      " conv2d_4 (Conv2D)              (None, 64, 64, 32)   4640        ['max_pooling2d_1[0][0]']        \n",
      "                                                                                                  \n",
      " conv2d_5 (Conv2D)              (None, 64, 64, 32)   9248        ['conv2d_4[0][0]']               \n",
      "                                                                                                  \n",
      " max_pooling2d_2 (MaxPooling2D)  (None, 32, 32, 32)  0           ['conv2d_5[0][0]']               \n",
      "                                                                                                  \n",
      " conv2d_6 (Conv2D)              (None, 32, 32, 64)   18496       ['max_pooling2d_2[0][0]']        \n",
      "                                                                                                  \n",
      " conv2d_7 (Conv2D)              (None, 32, 32, 64)   36928       ['conv2d_6[0][0]']               \n",
      "                                                                                                  \n",
      " max_pooling2d_3 (MaxPooling2D)  (None, 16, 16, 64)  0           ['conv2d_7[0][0]']               \n",
      "                                                                                                  \n",
      " conv2d_8 (Conv2D)              (None, 16, 16, 128)  73856       ['max_pooling2d_3[0][0]']        \n",
      "                                                                                                  \n",
      " conv2d_9 (Conv2D)              (None, 16, 16, 128)  147584      ['conv2d_8[0][0]']               \n",
      "                                                                                                  \n",
      " max_pooling2d_4 (MaxPooling2D)  (None, 8, 8, 128)   0           ['conv2d_9[0][0]']               \n",
      "                                                                                                  \n",
      " conv2d_10 (Conv2D)             (None, 8, 8, 256)    295168      ['max_pooling2d_4[0][0]']        \n",
      "                                                                                                  \n",
      " conv2d_11 (Conv2D)             (None, 8, 8, 256)    590080      ['conv2d_10[0][0]']              \n",
      "                                                                                                  \n",
      " up_sampling2d (UpSampling2D)   (None, 16, 16, 256)  0           ['conv2d_11[0][0]']              \n",
      "                                                                                                  \n",
      " concatenate (Concatenate)      (None, 16, 16, 384)  0           ['up_sampling2d[0][0]',          \n",
      "                                                                  'conv2d_9[0][0]']               \n",
      "                                                                                                  \n",
      " conv2d_12 (Conv2D)             (None, 16, 16, 128)  442496      ['concatenate[0][0]']            \n",
      "                                                                                                  \n",
      " conv2d_13 (Conv2D)             (None, 16, 16, 128)  147584      ['conv2d_12[0][0]']              \n",
      "                                                                                                  \n",
      " up_sampling2d_1 (UpSampling2D)  (None, 32, 32, 128)  0          ['conv2d_13[0][0]']              \n",
      "                                                                                                  \n",
      " concatenate_1 (Concatenate)    (None, 32, 32, 192)  0           ['up_sampling2d_1[0][0]',        \n",
      "                                                                  'conv2d_7[0][0]']               \n",
      "                                                                                                  \n",
      " conv2d_14 (Conv2D)             (None, 32, 32, 64)   110656      ['concatenate_1[0][0]']          \n",
      "                                                                                                  \n",
      " conv2d_15 (Conv2D)             (None, 32, 32, 64)   36928       ['conv2d_14[0][0]']              \n",
      "                                                                                                  \n",
      " up_sampling2d_2 (UpSampling2D)  (None, 64, 64, 64)  0           ['conv2d_15[0][0]']              \n",
      "                                                                                                  \n",
      " concatenate_2 (Concatenate)    (None, 64, 64, 96)   0           ['up_sampling2d_2[0][0]',        \n",
      "                                                                  'conv2d_5[0][0]']               \n",
      "                                                                                                  \n",
      " conv2d_16 (Conv2D)             (None, 64, 64, 32)   27680       ['concatenate_2[0][0]']          \n",
      "                                                                                                  \n",
      " conv2d_17 (Conv2D)             (None, 64, 64, 32)   9248        ['conv2d_16[0][0]']              \n",
      "                                                                                                  \n",
      " up_sampling2d_3 (UpSampling2D)  (None, 128, 128, 32  0          ['conv2d_17[0][0]']              \n",
      "                                )                                                                 \n",
      "                                                                                                  \n",
      " concatenate_3 (Concatenate)    (None, 128, 128, 48  0           ['up_sampling2d_3[0][0]',        \n",
      "                                )                                 'conv2d_3[0][0]']               \n",
      "                                                                                                  \n",
      " conv2d_18 (Conv2D)             (None, 128, 128, 16  6928        ['concatenate_3[0][0]']          \n",
      "                                )                                                                 \n",
      "                                                                                                  \n",
      " conv2d_19 (Conv2D)             (None, 128, 128, 16  2320        ['conv2d_18[0][0]']              \n",
      "                                )                                                                 \n",
      "                                                                                                  \n",
      " up_sampling2d_4 (UpSampling2D)  (None, 256, 256, 16  0          ['conv2d_19[0][0]']              \n",
      "                                )                                                                 \n",
      "                                                                                                  \n",
      " concatenate_4 (Concatenate)    (None, 256, 256, 24  0           ['up_sampling2d_4[0][0]',        \n",
      "                                )                                 'conv2d_1[0][0]']               \n",
      "                                                                                                  \n",
      " conv2d_20 (Conv2D)             (None, 256, 256, 8)  1736        ['concatenate_4[0][0]']          \n",
      "                                                                                                  \n",
      " conv2d_21 (Conv2D)             (None, 256, 256, 8)  584         ['conv2d_20[0][0]']              \n",
      "                                                                                                  \n",
      " conv2d_22 (Conv2D)             (None, 256, 256, 1)  9           ['conv2d_21[0][0]']              \n",
      "                                                                                                  \n",
      "==================================================================================================\n",
      "Total params: 1,966,465\n",
      "Trainable params: 1,966,465\n",
      "Non-trainable params: 0\n",
      "__________________________________________________________________________________________________\n"
     ]
    }
   ],
   "source": [
    "model = u_net()\n",
    "model.compile(optimizer=\"adam\", loss=\"binary_crossentropy\", metrics=[\"acc\"])\n",
    "model.summary()"
   ]
  },
  {
   "attachments": {},
   "cell_type": "markdown",
   "metadata": {},
   "source": [
    "5. Estimate the model parameters using the training and the validation sample. Use batch-size of 32 and a maximum of 30 training epoch. Use an early-stopping callback with a patience parameter of 3 to recover the parameters that minimise the error on the validation sample."
   ]
  },
  {
   "cell_type": "code",
   "execution_count": 10,
   "metadata": {},
   "outputs": [
    {
     "name": "stdout",
     "output_type": "stream",
     "text": [
      "Epoch 1/30\n",
      "74/74 [==============================] - 548s 7s/step - loss: 0.4053 - acc: 0.8849 - val_loss: 0.3191 - val_acc: 0.8827\n",
      "Epoch 2/30\n",
      "74/74 [==============================] - 549s 7s/step - loss: 0.2943 - acc: 0.8851 - val_loss: 0.2686 - val_acc: 0.8827\n",
      "Epoch 3/30\n",
      "74/74 [==============================] - 544s 7s/step - loss: 0.2461 - acc: 0.8948 - val_loss: 0.2299 - val_acc: 0.9078\n",
      "Epoch 4/30\n",
      "74/74 [==============================] - 553s 7s/step - loss: 0.2151 - acc: 0.9139 - val_loss: 0.2294 - val_acc: 0.9109\n",
      "Epoch 5/30\n",
      "74/74 [==============================] - 534s 7s/step - loss: 0.2089 - acc: 0.9160 - val_loss: 0.2116 - val_acc: 0.9161\n",
      "Epoch 6/30\n",
      "74/74 [==============================] - 525s 7s/step - loss: 0.1925 - acc: 0.9219 - val_loss: 0.1891 - val_acc: 0.9218\n",
      "Epoch 7/30\n",
      "74/74 [==============================] - 513s 7s/step - loss: 0.1843 - acc: 0.9248 - val_loss: 0.2000 - val_acc: 0.9215\n",
      "Epoch 8/30\n",
      "74/74 [==============================] - 493s 7s/step - loss: 0.1813 - acc: 0.9261 - val_loss: 0.1952 - val_acc: 0.9196\n",
      "Epoch 9/30\n",
      "74/74 [==============================] - 512s 7s/step - loss: 0.1727 - acc: 0.9294 - val_loss: 0.1765 - val_acc: 0.9270\n",
      "Epoch 10/30\n",
      "74/74 [==============================] - 510s 7s/step - loss: 0.1682 - acc: 0.9314 - val_loss: 0.1837 - val_acc: 0.9230\n",
      "Epoch 11/30\n",
      "74/74 [==============================] - 673s 9s/step - loss: 0.1672 - acc: 0.9320 - val_loss: 0.1932 - val_acc: 0.9201\n",
      "Epoch 12/30\n",
      "74/74 [==============================] - 492s 7s/step - loss: 0.1652 - acc: 0.9328 - val_loss: 0.1784 - val_acc: 0.9258\n",
      "Epoch 12: early stopping\n"
     ]
    }
   ],
   "source": [
    "early_stopping = EarlyStopping(monitor='val_loss', patience=3, verbose=1)\n",
    "history = model.fit(train_image, train_label, batch_size=32, epochs=30, validation_data=(validation_image, validation_label), callbacks=[early_stopping])"
   ]
  },
  {
   "cell_type": "code",
   "execution_count": 11,
   "metadata": {},
   "outputs": [],
   "source": [
    "model.save('my_model', save_format='h5')"
   ]
  },
  {
   "attachments": {},
   "cell_type": "markdown",
   "metadata": {},
   "source": [
    "6. Display the evolution of the training and validation metrics during training using the provided `display_history` utility function. Load and format the test sample (see question 1) and evaluate the model's generalisation performance."
   ]
  },
  {
   "cell_type": "code",
   "execution_count": 15,
   "metadata": {},
   "outputs": [
    {
     "data": {
      "image/png": "[encoded data removed]",
      "text/plain": [
       "<Figure size 640x480 with 1 Axes>"
      ]
     },
     "metadata": {},
     "output_type": "display_data"
    }
   ],
   "source": [
    "import matplotlib.pyplot as plt\n",
    "plt.plot(history.history['acc'], color='b')\n",
    "plt.plot(history.history['val_acc'], color='r')\n",
    "plt.title('Model Accuracy')\n",
    "plt.ylabel('Accuary')\n",
    "plt.xlabel('Epochs')\n",
    "plt.legend(['Training', 'Validation'], loc='upper left')\n",
    "plt.show()"
   ]
  },
  {
   "attachments": {},
   "cell_type": "markdown",
   "metadata": {},
   "source": [
    "7. Compute the predicted probabilities for the test images. Turn the probabilities into binary predictions using a threshold of 0.5. Display prediction statistics using the provided `display_statistics` utility for several test images."
   ]
  },
  {
   "cell_type": "code",
   "execution_count": 20,
   "metadata": {},
   "outputs": [
    {
     "name": "stdout",
     "output_type": "stream",
     "text": [
      "16/16 [==============================] - 23s 1s/step\n",
      "[[[0.23833506]\n",
      "  [0.16609949]\n",
      "  [0.13645825]\n",
      "  ...\n",
      "  [0.03225291]\n",
      "  [0.04361745]\n",
      "  [0.11271518]]\n",
      "\n",
      " [[0.1380225 ]\n",
      "  [0.0785538 ]\n",
      "  [0.05665174]\n",
      "  ...\n",
      "  [0.00641345]\n",
      "  [0.00786291]\n",
      "  [0.0426072 ]]\n",
      "\n",
      " [[0.09705142]\n",
      "  [0.05381451]\n",
      "  [0.04366969]\n",
      "  ...\n",
      "  [0.00258298]\n",
      "  [0.00354438]\n",
      "  [0.02643957]]\n",
      "\n",
      " ...\n",
      "\n",
      " [[0.18671352]\n",
      "  [0.14278294]\n",
      "  [0.12406482]\n",
      "  ...\n",
      "  [0.01021862]\n",
      "  [0.0145861 ]\n",
      "  [0.07661316]]\n",
      "\n",
      " [[0.17382307]\n",
      "  [0.1115804 ]\n",
      "  [0.08739115]\n",
      "  ...\n",
      "  [0.00654323]\n",
      "  [0.01264463]\n",
      "  [0.07704383]]\n",
      "\n",
      " [[0.2428641 ]\n",
      "  [0.17885193]\n",
      "  [0.14600404]\n",
      "  ...\n",
      "  [0.02331771]\n",
      "  [0.04680862]\n",
      "  [0.17636293]]]\n"
     ]
    }
   ],
   "source": [
    "predictions = model.predict(test_image)\n",
    "print(predictions[0])"
   ]
  },
  {
   "cell_type": "code",
   "execution_count": 21,
   "metadata": {},
   "outputs": [
    {
     "data": {
      "text/plain": [
       "(256, 256, 1)"
      ]
     },
     "execution_count": 21,
     "metadata": {},
     "output_type": "execute_result"
    }
   ],
   "source": [
    "predictions[0].shape"
   ]
  },
  {
   "attachments": {},
   "cell_type": "markdown",
   "metadata": {},
   "source": [
    "8. **OPTIONAL** Modify the network with either batch-normalisation or spatial dropout layers to increase predictive performance. Assuming that we give equal importance to reducing false positives and false negatives, use a decision probability threshold that strikes the best balance between these two quantities."
   ]
  }
 ],
 "metadata": {
  "kernelspec": {
   "display_name": "deeplearning",
   "language": "python",
   "name": "python3"
  },
  "language_info": {
   "codemirror_mode": {
    "name": "ipython",
    "version": 3
   },
   "file_extension": ".py",
   "mimetype": "text/x-python",
   "name": "python",
   "nbconvert_exporter": "python",
   "pygments_lexer": "ipython3",
   "version": "3.10.11"
  },
  "orig_nbformat": 4
 },
 "nbformat": 4,
 "nbformat_minor": 2
}
